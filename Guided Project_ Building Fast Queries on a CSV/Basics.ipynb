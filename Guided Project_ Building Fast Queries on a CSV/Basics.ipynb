{
 "cells": [
  {
   "cell_type": "code",
   "execution_count": 1,
   "metadata": {},
   "outputs": [
    {
     "name": "stdout",
     "output_type": "stream",
     "text": [
      "[['6571244', 'Apple', 'MacBook Pro', 'Ultrabook', '13.3', 'IPS Panel Retina Display 2560x1600', 'Intel Core i5 2.3GHz', '8GB', '128GB SSD', 'Intel Iris Plus Graphics 640', 'macOS', '1.37kg', '1339'], ['7287764', 'Apple', 'Macbook Air', 'Ultrabook', '13.3', '1440x900', 'Intel Core i5 1.8GHz', '8GB', '128GB Flash Storage', 'Intel HD Graphics 6000', 'macOS', '1.34kg', '898'], ['3362737', 'HP', '250 G6', 'Notebook', '15.6', 'Full HD 1920x1080', 'Intel Core i5 7200U 2.5GHz', '8GB', '256GB SSD', 'Intel HD Graphics 620', 'No OS', '1.86kg', '575'], ['9722156', 'Apple', 'MacBook Pro', 'Ultrabook', '15.4', 'IPS Panel Retina Display 2880x1800', 'Intel Core i7 2.7GHz', '16GB', '512GB SSD', 'AMD Radeon Pro 455', 'macOS', '1.83kg', '2537'], ['8550527', 'Apple', 'MacBook Pro', 'Ultrabook', '13.3', 'IPS Panel Retina Display 2560x1600', 'Intel Core i5 3.1GHz', '8GB', '256GB SSD', 'Intel Iris Plus Graphics 650', 'macOS', '1.37kg', '1803']]\n"
     ]
    }
   ],
   "source": [
    "import csv\n",
    "with open('laptops.csv', 'r', encoding='UTF-8') as csvfile:\n",
    "    spamreader = csv.reader(csvfile)\n",
    "    rows = list(spamreader)\n",
    "    header = rows.pop(0)\n",
    "#Test to see there's data in the csv file\n",
    "print(rows[:5])\n",
    "\n",
    "import time\n",
    "def timit(func, *args):\n",
    "    start = time.time()\n",
    "    func(*args)\n",
    "    end = time.time()\n",
    "    elapsed = end - start\n",
    "    print(f\"Function {func.__name__} took {elapsed} seconds with args {args}\")"
   ]
  },
  {
   "cell_type": "code",
   "execution_count": 2,
   "metadata": {},
   "outputs": [],
   "source": [
    "class Inventory: # Initial, barebones iteration\n",
    "    def __init__(self, csv_filename):\n",
    "        with open(csv_filename, 'r', encoding='UTF-8') as csvfile:\n",
    "            self.rows = list(csv.reader(csvfile))\n",
    "            self.header = self.rows.pop(0)"
   ]
  },
  {
   "cell_type": "code",
   "execution_count": 3,
   "metadata": {},
   "outputs": [
    {
     "name": "stdout",
     "output_type": "stream",
     "text": [
      "['Id', 'Company', 'Product', 'TypeName', 'Inches', 'ScreenResolution', 'Cpu', 'Ram', 'Memory', 'Gpu', 'OpSys', 'Weight', 'Price']\n",
      "1303\n"
     ]
    }
   ],
   "source": [
    "inventory = Inventory('laptops.csv')\n",
    "print(inventory.header)\n",
    "print(len(inventory.rows))"
   ]
  },
  {
   "cell_type": "markdown",
   "metadata": {},
   "source": [
    "Adding a way to look up data in the csv file"
   ]
  },
  {
   "cell_type": "code",
   "execution_count": 4,
   "metadata": {},
   "outputs": [],
   "source": [
    "class Inventory: # First modified iteration\n",
    "    def __init__(self, csv_filename):\n",
    "        with open(csv_filename, 'r', encoding='UTF-8') as csvfile:\n",
    "            self.rows = list(csv.reader(csvfile))\n",
    "            self.header = self.rows.pop(0)\n",
    "    def get_laptop_from_id(self, laptop_id):\n",
    "        for row in self.rows:\n",
    "            if row[0] == laptop_id:\n",
    "                return row\n",
    "        return None"
   ]
  },
  {
   "cell_type": "code",
   "execution_count": 5,
   "metadata": {},
   "outputs": [
    {
     "name": "stdout",
     "output_type": "stream",
     "text": [
      "Function get_laptop_from_id took 0.00010561943054199219 seconds with args ('3362736',)\n"
     ]
    }
   ],
   "source": [
    "# Test latest inventory class\n",
    "inventory = Inventory('laptops.csv')\n",
    "assert inventory.get_laptop_from_id('3362737')\n",
    "assert inventory.get_laptop_from_id('3362736') is None\n",
    "timit(inventory.get_laptop_from_id, '3362736')"
   ]
  },
  {
   "cell_type": "markdown",
   "metadata": {},
   "source": [
    "Seeking to optimize lookup from O(N) to O(1)"
   ]
  },
  {
   "cell_type": "code",
   "execution_count": 6,
   "metadata": {},
   "outputs": [],
   "source": [
    "class Inventory: # Second modified iteration\n",
    "    def __init__(self, csv_filename):\n",
    "        with open(csv_filename, 'r', encoding='UTF-8') as csvfile:\n",
    "            self.rows = list(csv.reader(csvfile))\n",
    "            self.header = self.rows.pop(0)\n",
    "        # Pre-process data into dictionary for easy lookup\n",
    "        self.id_to_row = {row[0]: row[1:] for row in self.rows}\n",
    "    def get_laptop_from_id_fast(self, laptop_id):\n",
    "        if laptop_id in self.id_to_row.keys():\n",
    "            return self.id_to_row[laptop_id]\n",
    "        else:\n",
    "            return None\n",
    "    def get_laptop_from_id(self, laptop_id):\n",
    "        for row in self.rows:\n",
    "            if row[0] == laptop_id:\n",
    "                return row\n",
    "        return None"
   ]
  },
  {
   "cell_type": "code",
   "execution_count": 11,
   "metadata": {},
   "outputs": [
    {
     "name": "stdout",
     "output_type": "stream",
     "text": [
      "Function get_laptop_from_id_fast took 1.1920928955078125e-06 seconds with args ('3362736',)\n"
     ]
    }
   ],
   "source": [
    "# Test latest inventory class\n",
    "inventory = Inventory('laptops.csv')\n",
    "assert inventory.get_laptop_from_id_fast('3362737')\n",
    "assert inventory.get_laptop_from_id_fast('3362736') is None\n",
    "timit(inventory.get_laptop_from_id_fast, '3362736')"
   ]
  },
  {
   "cell_type": "code",
   "execution_count": 8,
   "metadata": {},
   "outputs": [
    {
     "name": "stdout",
     "output_type": "stream",
     "text": [
      "10.777134656906128 0.053897857666015625\n"
     ]
    }
   ],
   "source": [
    "import time\n",
    "import random\n",
    "\n",
    "def timeit(funct, *args):\n",
    "    start = time.time()\n",
    "    funct(*args)\n",
    "    end = time.time()\n",
    "    return end - start\n",
    "\n",
    "rand_values = [str(random.randint(10**6, 10**7-1)) for _ in range(10**5)]\n",
    "inventory = Inventory('laptops.csv')\n",
    "total_time_no_dict = 0\n",
    "for id in rand_values:\n",
    "    secs = timeit(inventory.get_laptop_from_id, id)\n",
    "    total_time_no_dict += secs\n",
    "total_time_dict = 0\n",
    "for id in rand_values:\n",
    "    secs = timeit(inventory.get_laptop_from_id_fast, id)\n",
    "    total_time_dict += secs\n",
    "print(total_time_no_dict, total_time_dict)"
   ]
  },
  {
   "cell_type": "code",
   "execution_count": 9,
   "metadata": {},
   "outputs": [],
   "source": [
    "class Inventory: # Second modified iteration\n",
    "    def __init__(self, csv_filename):\n",
    "        with open(csv_filename, 'r', encoding='UTF-8') as csvfile:\n",
    "            self.rows = list(csv.reader(csvfile))\n",
    "            self.header = self.rows.pop(0)\n",
    "        # Pre-process data into dictionary for easy lookup\n",
    "        self.id_to_row = {row[0]: row[1:] for row in self.rows}\n",
    "    \n",
    "    def get_laptop_from_id_fast(self, laptop_id):\n",
    "        if laptop_id in self.id_to_row.keys():\n",
    "            return self.id_to_row[laptop_id]\n",
    "        else:\n",
    "            return None\n",
    "    \n",
    "    def get_laptop_from_id(self, laptop_id):\n",
    "        for row in self.rows:\n",
    "            if row[0] == laptop_id:\n",
    "                return row\n",
    "        return None\n",
    "    \n",
    "    def check_promotion_dollars(self, dollars):\n",
    "        price_idx = -1\n",
    "        for row in self.rows:\n",
    "            if int(row[price_idx]) == dollars:\n",
    "                return True\n",
    "        for i in range(len(self.rows)):\n",
    "            for n in range(i, len(self.rows)):\n",
    "                p_total = int(self.rows[i][price_idx]) + int(self.rows[n][price_idx])\n",
    "                if p_total == dollars:\n",
    "                    return True\n",
    "        return False"
   ]
  },
  {
   "cell_type": "code",
   "execution_count": 10,
   "metadata": {},
   "outputs": [
    {
     "name": "stdout",
     "output_type": "stream",
     "text": [
      "Function check_promotion_dollars took 0.5663290023803711 seconds with args (442,)\n"
     ]
    }
   ],
   "source": [
    "# Test latest inventory class\n",
    "inventory = Inventory('laptops.csv')\n",
    "assert inventory.check_promotion_dollars(1000)\n",
    "assert not inventory.check_promotion_dollars(442)\n",
    "timit(inventory.check_promotion_dollars, 442)"
   ]
  },
  {
   "cell_type": "markdown",
   "metadata": {},
   "source": [
    "Lower time complexity of all queries by pre-processing the price combinations during __init__."
   ]
  },
  {
   "cell_type": "code",
   "execution_count": 14,
   "metadata": {},
   "outputs": [],
   "source": [
    "class Inventory: # Third modified iteration\n",
    "    def __init__(self, csv_filename):\n",
    "        with open(csv_filename, 'r', encoding='UTF-8') as csvfile:\n",
    "            self.rows = list(csv.reader(csvfile))\n",
    "            self.header = self.rows.pop(0)\n",
    "        # Pre-process data into dictionary for easy lookup\n",
    "        self.id_to_row = {row[0]: row[1:] for row in self.rows}\n",
    "        self.prices = set()\n",
    "        self.price_idx = -1\n",
    "        for row in self.rows:\n",
    "            self.prices.add(int(row[self.price_idx]))\n",
    "    \n",
    "    def get_laptop_from_id_fast(self, laptop_id):\n",
    "        if laptop_id in self.id_to_row.keys():\n",
    "            return self.id_to_row[laptop_id]\n",
    "        else:\n",
    "            return None\n",
    "    \n",
    "    def get_laptop_from_id(self, laptop_id):\n",
    "        for row in self.rows:\n",
    "            if row[0] == laptop_id:\n",
    "                return row\n",
    "        return None\n",
    "    \n",
    "    def check_promotion_dollars(self, dollars):\n",
    "        price_idx = -1\n",
    "        for row in self.rows:\n",
    "            if int(row[price_idx]) == dollars:\n",
    "                return True\n",
    "        for i in range(len(self.rows)):\n",
    "            for n in range(i, len(self.rows)):\n",
    "                p_total = int(self.rows[i][price_idx]) + int(self.rows[n][price_idx])\n",
    "                if p_total == dollars:\n",
    "                    return True\n",
    "        return False\n",
    "    \n",
    "    def check_promotion_dollars_fast(self, dollars):\n",
    "        if dollars in self.prices:\n",
    "            return True\n",
    "        for row in self.rows:\n",
    "            price1 = int(row[self.price_idx])\n",
    "            price2 = dollars - price1\n",
    "            if price2 in self.prices:\n",
    "                return True\n",
    "        return False"
   ]
  },
  {
   "cell_type": "code",
   "execution_count": 15,
   "metadata": {},
   "outputs": [
    {
     "name": "stdout",
     "output_type": "stream",
     "text": [
      "Function check_promotion_dollars_fast took 0.0005924701690673828 seconds with args (442,)\n"
     ]
    }
   ],
   "source": [
    "# Test latest inventory class\n",
    "inventory = Inventory('laptops.csv')\n",
    "assert inventory.check_promotion_dollars_fast(1000)\n",
    "assert not inventory.check_promotion_dollars_fast(442)\n",
    "timit(inventory.check_promotion_dollars_fast, 442)"
   ]
  },
  {
   "cell_type": "code",
   "execution_count": 16,
   "metadata": {},
   "outputs": [
    {
     "name": "stdout",
     "output_type": "stream",
     "text": [
      "Time without a set: 3.364323377609253.\n",
      "Time with a set: 0.002518177032470703.\n"
     ]
    }
   ],
   "source": [
    "prices = [random.randint(100, 5000) for _ in range(100)]\n",
    "inventory = Inventory('laptops.csv')\n",
    "total_time_no_set = 0\n",
    "for price in prices:\n",
    "    total_time_no_set += timeit(inventory.check_promotion_dollars, price)\n",
    "total_time_set = 0\n",
    "for price in prices:\n",
    "    total_time_set += timeit(inventory.check_promotion_dollars_fast, price)\n",
    "print(f\"Time without a set: {total_time_no_set}.\\nTime with a set: {total_time_set}.\")"
   ]
  },
  {
   "cell_type": "markdown",
   "metadata": {},
   "source": [
    "Implement sorted prices to use binary search in looking for laptops under a certain price"
   ]
  },
  {
   "cell_type": "code",
   "execution_count": 48,
   "metadata": {},
   "outputs": [],
   "source": [
    "class Inventory: # Fourth modified iteration\n",
    "    def __init__(self, csv_filename):\n",
    "        with open(csv_filename, 'r', encoding='UTF-8') as csvfile:\n",
    "            self.rows = list(csv.reader(csvfile))\n",
    "            self.header = self.rows.pop(0)\n",
    "        # Pre-process data into dictionary for easy lookup\n",
    "        self.id_to_row = {row[0]: row[1:] for row in self.rows}\n",
    "        self.prices = set()\n",
    "        self.price_idx = -1\n",
    "        for row in self.rows:\n",
    "            self.prices.add(int(row[self.price_idx]))\n",
    "        def row_price(row):\n",
    "            return int(row[self.price_idx])\n",
    "        self.rows_by_price = sorted(self.rows, key=row_price)\n",
    "    \n",
    "    def get_laptop_from_id_fast(self, laptop_id):\n",
    "        if laptop_id in self.id_to_row.keys():\n",
    "            return self.id_to_row[laptop_id]\n",
    "        else:\n",
    "            return None\n",
    "    \n",
    "    def get_laptop_from_id(self, laptop_id):\n",
    "        for row in self.rows:\n",
    "            if row[0] == laptop_id:\n",
    "                return row\n",
    "        return None\n",
    "    \n",
    "    def check_promotion_dollars(self, dollars):\n",
    "        price_idx = -1\n",
    "        for row in self.rows:\n",
    "            if int(row[price_idx]) == dollars:\n",
    "                return True\n",
    "        for i in range(len(self.rows)):\n",
    "            for n in range(i, len(self.rows)):\n",
    "                p_total = int(self.rows[i][price_idx]) + int(self.rows[n][price_idx])\n",
    "                if p_total == dollars:\n",
    "                    return True\n",
    "        return False\n",
    "    \n",
    "    def check_promotion_dollars_fast(self, dollars):\n",
    "        if dollars in self.prices:\n",
    "            return True\n",
    "        for row in self.rows:\n",
    "            price1 = int(row[self.price_idx])\n",
    "            price2 = dollars - price1\n",
    "            if price2 in self.prices:\n",
    "                return True\n",
    "        return False\n",
    "    \n",
    "    def find_first_laptop_more_expensive(self, target_price):\n",
    "        range_start = 0\n",
    "        range_end = len(self.rows_by_price) - 1\n",
    "        while range_start < range_end:\n",
    "            range_middle = (range_end + range_start) // 2\n",
    "            price1 = int(self.rows_by_price[range_middle-1][self.price_idx])\n",
    "            price2 = int(self.rows_by_price[range_middle][self.price_idx])\n",
    "            if price1 <= target_price and price2 > target_price:\n",
    "                return range_middle\n",
    "            elif price1 < target_price and price2 <= target_price:\n",
    "                range_start = range_middle + 1\n",
    "            else:\n",
    "                range_end = range_middle\n",
    "        price = int(self.rows_by_price[range_start][self.price_idx])\n",
    "        if price < target_price:\n",
    "            return -1\n",
    "        return range_start"
   ]
  },
  {
   "cell_type": "code",
   "execution_count": 49,
   "metadata": {},
   "outputs": [
    {
     "name": "stdout",
     "output_type": "stream",
     "text": [
      "683\n",
      "Function find_first_laptop_more_expensive took 1.33514404296875e-05 seconds with args (10000,)\n"
     ]
    }
   ],
   "source": [
    "# Test latest inventory class\n",
    "inventory = Inventory('laptops.csv')\n",
    "print(inventory.find_first_laptop_more_expensive(1000))\n",
    "assert inventory.find_first_laptop_more_expensive(1000) == 683\n",
    "assert inventory.find_first_laptop_more_expensive(10000) == -1\n",
    "timit(inventory.find_first_laptop_more_expensive, 10000)"
   ]
  },
  {
   "cell_type": "code",
   "execution_count": 44,
   "metadata": {},
   "outputs": [
    {
     "name": "stdout",
     "output_type": "stream",
     "text": [
      "['8747948', 'Lenovo', 'ThinkPad T460', 'Notebook', '14', '1366x768', 'Intel Core i5 6200U 2.3GHz', '4GB', '508GB Hybrid', 'Intel HD Graphics 520', 'Windows 7', '1.70kg', '1002']\n",
      "['5550925', 'Dell', 'Latitude 5580', 'Notebook', '15.6', '1366x768', 'Intel Core i5 7300U 2.6GHz', '8GB', '500GB HDD', 'Intel HD Graphics 620', 'Windows 10', '1.9kg', '1008']\n",
      "1301\n"
     ]
    }
   ],
   "source": [
    "print(inventory.rows_by_price[683])\n",
    "print(inventory.rows_by_price[684])\n",
    "print((1301+1302)//2)"
   ]
  },
  {
   "cell_type": "markdown",
   "metadata": {},
   "source": [
    "FROM DATAQUEST: If you want to push this project further, we suggest that you think about the following queries:\n",
    "\n",
    "Imagine that we extend our budget query to take as input a range of prices, min_price and max_price, rather than a single price. Write a query that finds all laptops whose price is in the given range.\n",
    "Sometimes, a customer wants a laptop with some characteristics such as, for instance, 8GB or RAM and a 256GB hard drive. It would be interesting for those customers to provide a way to find the cheapest laptop that matches the desired characteristics. For simplicity, focus only on the amount of RAM and hard drive capacity. You might need to convert those values to integers rather than using strings."
   ]
  }
 ],
 "metadata": {
  "kernelspec": {
   "display_name": "Python 3",
   "language": "python",
   "name": "python3"
  },
  "language_info": {
   "codemirror_mode": {
    "name": "ipython",
    "version": 3
   },
   "file_extension": ".py",
   "mimetype": "text/x-python",
   "name": "python",
   "nbconvert_exporter": "python",
   "pygments_lexer": "ipython3",
   "version": "3.8.2"
  }
 },
 "nbformat": 4,
 "nbformat_minor": 2
}
