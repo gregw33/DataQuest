{
 "cells": [
  {
   "cell_type": "markdown",
   "metadata": {},
   "source": [
    "# Read in the data"
   ]
  },
  {
   "cell_type": "code",
   "execution_count": 1,
   "metadata": {
    "collapsed": false
   },
   "outputs": [],
   "source": [
    "#solutions at: https://github.com/dataquestio/solutions/blob/master/Mission217Solutions.ipynb\n",
    "import pandas as pd\n",
    "import numpy\n",
    "import re\n",
    "%matplotlib inline\n",
    "\n",
    "data_files = [\n",
    "    \"ap_2010.csv\",\n",
    "    \"class_size.csv\",\n",
    "    \"demographics.csv\",\n",
    "    \"graduation.csv\",\n",
    "    \"hs_directory.csv\",\n",
    "    \"sat_results.csv\"\n",
    "]\n",
    "\n",
    "data = {}\n",
    "\n",
    "for f in data_files:\n",
    "    d = pd.read_csv(\"schools/{0}\".format(f))\n",
    "    data[f.replace(\".csv\", \"\")] = d"
   ]
  },
  {
   "cell_type": "markdown",
   "metadata": {},
   "source": [
    "# Read in the surveys"
   ]
  },
  {
   "cell_type": "code",
   "execution_count": 2,
   "metadata": {
    "collapsed": true
   },
   "outputs": [],
   "source": [
    "all_survey = pd.read_csv(\"schools/survey_all.txt\", delimiter=\"\\t\", encoding='windows-1252')\n",
    "d75_survey = pd.read_csv(\"schools/survey_d75.txt\", delimiter=\"\\t\", encoding='windows-1252')\n",
    "survey = pd.concat([all_survey, d75_survey], axis=0)\n",
    "\n",
    "survey[\"DBN\"] = survey[\"dbn\"]\n",
    "\n",
    "survey_fields = [\n",
    "    \"DBN\", \n",
    "    \"rr_s\", \n",
    "    \"rr_t\", \n",
    "    \"rr_p\", \n",
    "    \"N_s\", \n",
    "    \"N_t\", \n",
    "    \"N_p\", \n",
    "    \"saf_p_11\", \n",
    "    \"com_p_11\", \n",
    "    \"eng_p_11\", \n",
    "    \"aca_p_11\", \n",
    "    \"saf_t_11\", \n",
    "    \"com_t_11\", \n",
    "    \"eng_t_11\", \n",
    "    \"aca_t_11\", \n",
    "    \"saf_s_11\", \n",
    "    \"com_s_11\", \n",
    "    \"eng_s_11\", \n",
    "    \"aca_s_11\", \n",
    "    \"saf_tot_11\", \n",
    "    \"com_tot_11\", \n",
    "    \"eng_tot_11\", \n",
    "    \"aca_tot_11\",\n",
    "]\n",
    "survey = survey.loc[:,survey_fields]\n",
    "data[\"survey\"] = survey"
   ]
  },
  {
   "cell_type": "markdown",
   "metadata": {},
   "source": [
    "# Add DBN columns"
   ]
  },
  {
   "cell_type": "code",
   "execution_count": 3,
   "metadata": {
    "collapsed": true
   },
   "outputs": [],
   "source": [
    "data[\"hs_directory\"][\"DBN\"] = data[\"hs_directory\"][\"dbn\"]\n",
    "\n",
    "def pad_csd(num):\n",
    "    string_representation = str(num)\n",
    "    if len(string_representation) > 1:\n",
    "        return string_representation\n",
    "    else:\n",
    "        return \"0\" + string_representation\n",
    "    \n",
    "data[\"class_size\"][\"padded_csd\"] = data[\"class_size\"][\"CSD\"].apply(pad_csd)\n",
    "data[\"class_size\"][\"DBN\"] = data[\"class_size\"][\"padded_csd\"] + data[\"class_size\"][\"SCHOOL CODE\"]"
   ]
  },
  {
   "cell_type": "markdown",
   "metadata": {},
   "source": [
    "# Convert columns to numeric"
   ]
  },
  {
   "cell_type": "code",
   "execution_count": 4,
   "metadata": {
    "collapsed": true
   },
   "outputs": [],
   "source": [
    "cols = ['SAT Math Avg. Score', 'SAT Critical Reading Avg. Score', 'SAT Writing Avg. Score']\n",
    "for c in cols:\n",
    "    data[\"sat_results\"][c] = pd.to_numeric(data[\"sat_results\"][c], errors=\"coerce\")\n",
    "\n",
    "data['sat_results']['sat_score'] = data['sat_results'][cols[0]] + data['sat_results'][cols[1]] + data['sat_results'][cols[2]]\n",
    "\n",
    "def find_lat(loc):\n",
    "    coords = re.findall(\"\\(.+, .+\\)\", loc)\n",
    "    lat = coords[0].split(\",\")[0].replace(\"(\", \"\")\n",
    "    return lat\n",
    "\n",
    "def find_lon(loc):\n",
    "    coords = re.findall(\"\\(.+, .+\\)\", loc)\n",
    "    lon = coords[0].split(\",\")[1].replace(\")\", \"\").strip()\n",
    "    return lon\n",
    "\n",
    "data[\"hs_directory\"][\"lat\"] = data[\"hs_directory\"][\"Location 1\"].apply(find_lat)\n",
    "data[\"hs_directory\"][\"lon\"] = data[\"hs_directory\"][\"Location 1\"].apply(find_lon)\n",
    "\n",
    "data[\"hs_directory\"][\"lat\"] = pd.to_numeric(data[\"hs_directory\"][\"lat\"], errors=\"coerce\")\n",
    "data[\"hs_directory\"][\"lon\"] = pd.to_numeric(data[\"hs_directory\"][\"lon\"], errors=\"coerce\")"
   ]
  },
  {
   "cell_type": "markdown",
   "metadata": {},
   "source": [
    "# Condense datasets"
   ]
  },
  {
   "cell_type": "code",
   "execution_count": 5,
   "metadata": {
    "collapsed": true
   },
   "outputs": [],
   "source": [
    "class_size = data[\"class_size\"]\n",
    "class_size = class_size[class_size[\"GRADE \"] == \"09-12\"]\n",
    "class_size = class_size[class_size[\"PROGRAM TYPE\"] == \"GEN ED\"]\n",
    "\n",
    "class_size = class_size.groupby(\"DBN\").agg(numpy.mean)\n",
    "class_size.reset_index(inplace=True)\n",
    "data[\"class_size\"] = class_size\n",
    "\n",
    "data[\"demographics\"] = data[\"demographics\"][data[\"demographics\"][\"schoolyear\"] == 20112012]\n",
    "\n",
    "data[\"graduation\"] = data[\"graduation\"][data[\"graduation\"][\"Cohort\"] == \"2006\"]\n",
    "data[\"graduation\"] = data[\"graduation\"][data[\"graduation\"][\"Demographic\"] == \"Total Cohort\"]"
   ]
  },
  {
   "cell_type": "markdown",
   "metadata": {},
   "source": [
    "# Convert AP scores to numeric"
   ]
  },
  {
   "cell_type": "code",
   "execution_count": 6,
   "metadata": {
    "collapsed": true
   },
   "outputs": [],
   "source": [
    "cols = ['AP Test Takers ', 'Total Exams Taken', 'Number of Exams with scores 3 4 or 5']\n",
    "\n",
    "for col in cols:\n",
    "    data[\"ap_2010\"][col] = pd.to_numeric(data[\"ap_2010\"][col], errors=\"coerce\")"
   ]
  },
  {
   "cell_type": "markdown",
   "metadata": {},
   "source": [
    "# Combine the datasets"
   ]
  },
  {
   "cell_type": "code",
   "execution_count": 7,
   "metadata": {
    "collapsed": false
   },
   "outputs": [
    {
     "name": "stdout",
     "output_type": "stream",
     "text": [
      "      DBN                                    SCHOOL NAME  \\\n",
      "0  01M292  HENRY STREET SCHOOL FOR INTERNATIONAL STUDIES   \n",
      "\n",
      "  Num of SAT Test Takers  SAT Critical Reading Avg. Score  \\\n",
      "0                     29                            355.0   \n",
      "\n",
      "   SAT Math Avg. Score  SAT Writing Avg. Score  sat_score SchoolName  \\\n",
      "0                404.0                   363.0     1122.0          0   \n",
      "\n",
      "   AP Test Takers   Total Exams Taken    ...     \\\n",
      "0       129.028846         197.038462    ...      \n",
      "\n",
      "                                priority04                       priority05  \\\n",
      "0  Then to Manhattan students or residents  Then to New York City residents   \n",
      "\n",
      "  priority06 priority07  priority08 priority09 priority10  \\\n",
      "0          0          0           0          0          0   \n",
      "\n",
      "                                          Location 1        lat       lon  \n",
      "0  220 Henry Street\\nNew York, NY 10002\\n(40.7137...  40.713764 -73.98526  \n",
      "\n",
      "[1 rows x 159 columns]\n"
     ]
    }
   ],
   "source": [
    "combined = data[\"sat_results\"]\n",
    "\n",
    "combined = combined.merge(data[\"ap_2010\"], on=\"DBN\", how=\"left\")\n",
    "combined = combined.merge(data[\"graduation\"], on=\"DBN\", how=\"left\")\n",
    "\n",
    "to_merge = [\"class_size\", \"demographics\", \"survey\", \"hs_directory\"]\n",
    "\n",
    "for m in to_merge:\n",
    "    combined = combined.merge(data[m], on=\"DBN\", how=\"inner\")\n",
    "\n",
    "combined = combined.fillna(combined.mean())\n",
    "combined = combined.fillna(0)\n",
    "print(combined.head(1))"
   ]
  },
  {
   "cell_type": "markdown",
   "metadata": {},
   "source": [
    "# Add a school district column for mapping"
   ]
  },
  {
   "cell_type": "code",
   "execution_count": 8,
   "metadata": {
    "collapsed": true
   },
   "outputs": [],
   "source": [
    "def get_first_two_chars(dbn):\n",
    "    return dbn[0:2]\n",
    "\n",
    "combined[\"school_dist\"] = combined[\"DBN\"].apply(get_first_two_chars)"
   ]
  },
  {
   "cell_type": "markdown",
   "metadata": {},
   "source": [
    "# Find correlations"
   ]
  },
  {
   "cell_type": "code",
   "execution_count": 9,
   "metadata": {
    "collapsed": false
   },
   "outputs": [
    {
     "name": "stdout",
     "output_type": "stream",
     "text": [
      "SAT Critical Reading Avg. Score         0.986820\n",
      "SAT Math Avg. Score                     0.972643\n",
      "SAT Writing Avg. Score                  0.987771\n",
      "sat_score                               1.000000\n",
      "AP Test Takers                          0.523140\n",
      "Total Exams Taken                       0.514333\n",
      "Number of Exams with scores 3 4 or 5    0.463245\n",
      "Total Cohort                            0.325144\n",
      "CSD                                     0.042948\n",
      "NUMBER OF STUDENTS / SEATS FILLED       0.394626\n",
      "NUMBER OF SECTIONS                      0.362673\n",
      "AVERAGE CLASS SIZE                      0.381014\n",
      "SIZE OF SMALLEST CLASS                  0.249949\n",
      "SIZE OF LARGEST CLASS                   0.314434\n",
      "SCHOOLWIDE PUPIL-TEACHER RATIO               NaN\n",
      "schoolyear                                   NaN\n",
      "fl_percent                                   NaN\n",
      "frl_percent                            -0.722225\n",
      "total_enrollment                        0.367857\n",
      "ell_num                                -0.153778\n",
      "ell_percent                            -0.398750\n",
      "sped_num                                0.034933\n",
      "sped_percent                           -0.448170\n",
      "asian_num                               0.475445\n",
      "asian_per                               0.570730\n",
      "black_num                               0.027979\n",
      "black_per                              -0.284139\n",
      "hispanic_num                            0.025744\n",
      "hispanic_per                           -0.396985\n",
      "white_num                               0.449559\n",
      "                                          ...   \n",
      "rr_p                                    0.047925\n",
      "N_s                                     0.423463\n",
      "N_t                                     0.291463\n",
      "N_p                                     0.421530\n",
      "saf_p_11                                0.122913\n",
      "com_p_11                               -0.115073\n",
      "eng_p_11                                0.020254\n",
      "aca_p_11                                0.035155\n",
      "saf_t_11                                0.313810\n",
      "com_t_11                                0.082419\n",
      "eng_t_11                                0.036906\n",
      "aca_t_11                                0.132348\n",
      "saf_s_11                                0.337639\n",
      "com_s_11                                0.187370\n",
      "eng_s_11                                0.213822\n",
      "aca_s_11                                0.339435\n",
      "saf_tot_11                              0.318753\n",
      "com_tot_11                              0.077310\n",
      "eng_tot_11                              0.100102\n",
      "aca_tot_11                              0.190966\n",
      "grade_span_max                               NaN\n",
      "expgrade_span_max                            NaN\n",
      "zip                                    -0.063977\n",
      "total_students                          0.407827\n",
      "number_programs                         0.117012\n",
      "priority08                                   NaN\n",
      "priority09                                   NaN\n",
      "priority10                                   NaN\n",
      "lat                                    -0.121029\n",
      "lon                                    -0.132222\n",
      "Name: sat_score, Length: 67, dtype: float64\n"
     ]
    }
   ],
   "source": [
    "correlations = combined.corr()\n",
    "correlations = correlations[\"sat_score\"]\n",
    "print(correlations)"
   ]
  },
  {
   "cell_type": "markdown",
   "metadata": {},
   "source": [
    "# Plotting survey correlations"
   ]
  },
  {
   "cell_type": "code",
   "execution_count": 10,
   "metadata": {
    "collapsed": false
   },
   "outputs": [],
   "source": [
    "# Remove DBN since it's a unique identifier, not a useful numerical value for correlation.\n",
    "survey_fields.remove(\"DBN\")\n",
    "sorted_corr = correlations[survey_fields].sort_values(ascending=True)"
   ]
  },
  {
   "cell_type": "code",
   "execution_count": 11,
   "metadata": {
    "collapsed": false
   },
   "outputs": [
    {
     "data": {
      "text/plain": [
       "<matplotlib.axes._subplots.AxesSubplot at 0x7f4a33156b00>"
      ]
     },
     "execution_count": 11,
     "metadata": {},
     "output_type": "execute_result"
    },
    {
     "data": {
      "image/png": "[encoded data removed]",
      "text/plain": [
       "<matplotlib.figure.Figure at 0x7f4a3315b2e8>"
      ]
     },
     "metadata": {},
     "output_type": "display_data"
    }
   ],
   "source": [
    "sorted_corr.plot(kind='bar',\n",
    "                 figsize=(11,5))"
   ]
  },
  {
   "cell_type": "markdown",
   "metadata": {},
   "source": [
    "Highest correlations seem to be N_s, N_p, aca_s_11, saf_s_11, saf_tot_11, saf_t_11, and N_t.\n",
    "\n",
    "Weakest Correlations are with rr_t, eng_p_11, aca_p_11, eng_t_11."
   ]
  },
  {
   "cell_type": "code",
   "execution_count": 12,
   "metadata": {
    "collapsed": false
   },
   "outputs": [
    {
     "data": {
      "text/plain": [
       "<matplotlib.axes._subplots.AxesSubplot at 0x7f4a3315bcf8>"
      ]
     },
     "execution_count": 12,
     "metadata": {},
     "output_type": "execute_result"
    },
    {
     "data": {
      "image/png": "[encoded data removed]",
      "text/plain": [
       "<matplotlib.figure.Figure at 0x7f4a3312a208>"
      ]
     },
     "metadata": {},
     "output_type": "display_data"
    }
   ],
   "source": [
    "#Plotting the safety scores compared to the SAT Scores to see if there's a correlation.\n",
    "combined.plot.scatter(x='saf_s_11', y='sat_score')\n",
    "\n",
    "#Does seem that there is a correlation between the Safety Score and\n",
    "#the SAT Score."
   ]
  },
  {
   "cell_type": "code",
   "execution_count": 13,
   "metadata": {
    "collapsed": false
   },
   "outputs": [],
   "source": [
    "grouped = combined.groupby('school_dist').agg(numpy.mean).reset_index()\n",
    "#print(combined.groupby('school_dist').agg(numpy.mean))"
   ]
  },
  {
   "cell_type": "code",
   "execution_count": 14,
   "metadata": {
    "collapsed": false
   },
   "outputs": [
    {
     "data": {
      "text/plain": [
       "<matplotlib.collections.PathCollection at 0x7f4a32b404e0>"
      ]
     },
     "execution_count": 14,
     "metadata": {},
     "output_type": "execute_result"
    },
    {
     "data": {
      "image/png": "[encoded data removed]",
      "text/plain": [
       "<matplotlib.figure.Figure at 0x7f4a331d3048>"
      ]
     },
     "metadata": {},
     "output_type": "display_data"
    }
   ],
   "source": [
    "from mpl_toolkits.basemap import Basemap\n",
    "\n",
    "m = Basemap(\n",
    "    projection='merc',\n",
    "    llcrnrlat=40.496044,\n",
    "    urcrnrlat=40.915256,\n",
    "    llcrnrlon=-74.255735,\n",
    "    urcrnrlon=-73.700272,\n",
    "    resolution='i'\n",
    ")\n",
    "m.drawmapboundary(fill_color='#86A6D9')\n",
    "m.drawcoastlines(color='#6D5F47', linewidth=.4)\n",
    "m.drawrivers(color='#6D5F47', linewidth=.4)\n",
    "\n",
    "longitudes = grouped['lon'].tolist()\n",
    "latitudes = grouped['lat'].tolist()\n",
    "\n",
    "m.scatter(longitudes, latitudes, \n",
    "          s=50, \n",
    "          zorder=2, \n",
    "          latlon=True,\n",
    "         c=grouped['saf_s_11'],\n",
    "         cmap='summer')\n"
   ]
  },
  {
   "cell_type": "markdown",
   "metadata": {
    "collapsed": true
   },
   "source": [
    "Need to check out which districts are showing the higher safety scores, and which are showing lower."
   ]
  },
  {
   "cell_type": "code",
   "execution_count": 15,
   "metadata": {
    "collapsed": false
   },
   "outputs": [
    {
     "data": {
      "text/plain": [
       "<matplotlib.axes._subplots.AxesSubplot at 0x7f4a331d3710>"
      ]
     },
     "execution_count": 15,
     "metadata": {},
     "output_type": "execute_result"
    },
    {
     "data": {
      "image/png": "[encoded data removed]",
      "text/plain": [
       "<matplotlib.figure.Figure at 0x7f4a3312b630>"
      ]
     },
     "metadata": {},
     "output_type": "display_data"
    }
   ],
   "source": [
    "correlations[['white_per', 'asian_per', 'black_per', 'hispanic_per']].plot(kind='bar',\n",
    "                 figsize=(11,5))"
   ]
  },
  {
   "cell_type": "markdown",
   "metadata": {},
   "source": [
    "Looks like there are strong positive correlations between the percentage of whites and asians to the SAT scores of the schools, and weaker negative correlations with the black and hispanic percentages. Strongest negative correlation is with hispanic percentage."
   ]
  },
  {
   "cell_type": "code",
   "execution_count": 23,
   "metadata": {
    "collapsed": false
   },
   "outputs": [
    {
     "name": "stdout",
     "output_type": "stream",
     "text": [
      "                                         school_name  hispanic_per  sat_score\n",
      "0                      Manhattan Bridges High School          99.8     1058.0\n",
      "1   Washington Heights Expeditionary Learning School          96.7     1174.0\n",
      "2  Gregorio Luperon High School for Science and M...          99.8     1014.0\n",
      "3                Academy for Language and Technology          99.4      951.0\n",
      "4              International School for Liberal Arts          99.8      934.0\n",
      "5   Pan American International High School at Monroe          99.8      970.0\n",
      "6                          Multicultural High School          99.8      887.0\n",
      "7             Pan American International High School         100.0      951.0\n"
     ]
    }
   ],
   "source": [
    "hispanic_per = combined[combined['hispanic_per'] > 95].reset_index()\n",
    "print(hispanic_per[['school_name', 'hispanic_per', 'sat_score']])"
   ]
  },
  {
   "cell_type": "markdown",
   "metadata": {},
   "source": [
    "These seem to be schools that aim to be very inviting to recent immigrants, and serve a large population of English language learners. "
   ]
  },
  {
   "cell_type": "code",
   "execution_count": 24,
   "metadata": {
    "collapsed": false
   },
   "outputs": [
    {
     "name": "stdout",
     "output_type": "stream",
     "text": [
      "                                         school_name  hispanic_per  sat_score\n",
      "0                             Stuyvesant High School           2.4     2096.0\n",
      "1                       Bronx High School of Science           7.2     1969.0\n",
      "2                     Brooklyn Technical High School           7.9     1833.0\n",
      "3  Queens High School for the Sciences at York Co...           7.9     1868.0\n",
      "4                Staten Island Technical High School           5.3     1953.0\n"
     ]
    }
   ],
   "source": [
    "hispanic_per_10 = combined[(combined['hispanic_per'] < 10) & (combined['sat_score'] > 1800)].reset_index()\n",
    "print(hispanic_per_10[['school_name', 'hispanic_per', 'sat_score']])"
   ]
  },
  {
   "cell_type": "markdown",
   "metadata": {},
   "source": [
    "These schools seem to have a tendency to emphasize the sciences/engineering/technology. They range from being considered \"pressure cooker\" schools, to being very rigorous but with supports for students."
   ]
  },
  {
   "cell_type": "code",
   "execution_count": 25,
   "metadata": {
    "collapsed": false
   },
   "outputs": [
    {
     "data": {
      "text/plain": [
       "<matplotlib.axes._subplots.AxesSubplot at 0x7f4a332f9048>"
      ]
     },
     "execution_count": 25,
     "metadata": {},
     "output_type": "execute_result"
    },
    {
     "data": {
      "image/png": "[encoded data removed]",
      "text/plain": [
       "<matplotlib.figure.Figure at 0x7f4a32b3b908>"
      ]
     },
     "metadata": {},
     "output_type": "display_data"
    }
   ],
   "source": [
    "correlations[['male_per', 'female_per']].plot(kind='bar',\n",
    "                 figsize=(11,5))"
   ]
  },
  {
   "cell_type": "markdown",
   "metadata": {},
   "source": [
    "Fairly moderate correlations between the gender percentages. Seems to be a weak negative correlation for the male percentage in schools, and a weak positive correlation for the femaile percentage."
   ]
  },
  {
   "cell_type": "code",
   "execution_count": 26,
   "metadata": {
    "collapsed": false
   },
   "outputs": [
    {
     "data": {
      "text/plain": [
       "<matplotlib.axes._subplots.AxesSubplot at 0x7f4a329259b0>"
      ]
     },
     "execution_count": 26,
     "metadata": {},
     "output_type": "execute_result"
    },
    {
     "data": {
      "image/png": "[encoded data removed]",
      "text/plain": [
       "<matplotlib.figure.Figure at 0x7f4a3296c390>"
      ]
     },
     "metadata": {},
     "output_type": "display_data"
    }
   ],
   "source": [
    "combined.plot.scatter(x='female_per', y='sat_score')"
   ]
  },
  {
   "cell_type": "markdown",
   "metadata": {},
   "source": [
    "Doesn't look like there's much of a correlation between female percentage and SAT score. Some of the highest scoring schools seem to have a slightly lower percenatage of females. The ones with 40% or less seem not to get much past 1400. The ones with over 50% females can climb up to just below 2000."
   ]
  },
  {
   "cell_type": "code",
   "execution_count": 30,
   "metadata": {
    "collapsed": false
   },
   "outputs": [
    {
     "name": "stdout",
     "output_type": "stream",
     "text": [
      "                                         school_name  female_per  sat_score\n",
      "0                     Bard High School Early College        68.7     1856.0\n",
      "1                      Eleanor Roosevelt High School        67.5     1758.0\n",
      "2                                 Beacon High School        61.0     1744.0\n",
      "3  Fiorello H. LaGuardia High School of Music & A...        73.6     1707.0\n",
      "4                        Townsend Harris High School        71.1     1910.0\n"
     ]
    }
   ],
   "source": [
    "female_percent = combined[\n",
    "    (combined['female_per'] > 60) & \n",
    "    (combined['sat_score'] > 1700)].reset_index()\n",
    "print(female_percent[['school_name', 'female_per', 'sat_score']])"
   ]
  },
  {
   "cell_type": "markdown",
   "metadata": {
    "collapsed": true
   },
   "source": [
    "These schools have much less of an emphasis on the sciences/technology. The higher female percentages have a bigger focus on the arts and humanities. The schools in the 60-70% female range have a more standard high school curriculum, but are accelerated."
   ]
  },
  {
   "cell_type": "code",
   "execution_count": 32,
   "metadata": {
    "collapsed": false
   },
   "outputs": [
    {
     "data": {
      "text/plain": [
       "<matplotlib.axes._subplots.AxesSubplot at 0x7f4a324846d8>"
      ]
     },
     "execution_count": 32,
     "metadata": {},
     "output_type": "execute_result"
    },
    {
     "data": {
      "image/png": "[encoded data removed]",
      "text/plain": [
       "<matplotlib.figure.Figure at 0x7f4a3243bc50>"
      ]
     },
     "metadata": {},
     "output_type": "display_data"
    }
   ],
   "source": [
    "combined['ap_per'] = combined['AP Test Takers ']/combined['total_enrollment']\n",
    "\n",
    "combined.plot.scatter(x='ap_per', y='sat_score')"
   ]
  },
  {
   "cell_type": "markdown",
   "metadata": {},
   "source": [
    "There are two lines, where the increasing percentage of AP Test takers either has a strong positive correlation, or just creates a flat line. The higher AP percentages seem to hover around 1250 score, while the highest scores peak a"
   ]
  }
 ],
 "metadata": {
  "kernelspec": {
   "display_name": "Python 3",
   "language": "python",
   "name": "python3"
  },
  "language_info": {
   "codemirror_mode": {
    "name": "ipython",
    "version": 3
   },
   "file_extension": ".py",
   "mimetype": "text/x-python",
   "name": "python",
   "nbconvert_exporter": "python",
   "pygments_lexer": "ipython3",
   "version": "3.4.3"
  }
 },
 "nbformat": 4,
 "nbformat_minor": 2
}
