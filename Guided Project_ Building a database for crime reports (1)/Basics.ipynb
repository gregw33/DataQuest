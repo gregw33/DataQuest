{
 "cells": [
  {
   "cell_type": "markdown",
   "metadata": {},
   "source": [
    "# DataQuest.io guided project about building a database for crime reports\n",
    "GOALS: Practice following concepts:\n",
    "    -How to create a database and manage database roles\n",
    "        =Database named crimes_db\n",
    "        =Groups of \"readonly\" and \"readwrite\"\n",
    "    -How to create database schemas and tables with proper datatypes\n",
    "        =Schema named \"crimes\" with table named \"boston_crimes\"\n",
    "    -How to load dataf from CSV files into dataabse tables."
   ]
  },
  {
   "cell_type": "markdown",
   "metadata": {},
   "source": [
    "Included data: boston.csv\n",
    "columns = incident_number, offense_code, description, date, day_of_the_week, lat, long"
   ]
  },
  {
   "cell_type": "markdown",
   "metadata": {},
   "source": [
    "# Connecting to the Dataquest Database\n",
    "# Creating new table"
   ]
  },
  {
   "cell_type": "code",
   "execution_count": 1,
   "metadata": {
    "collapsed": true
   },
   "outputs": [],
   "source": [
    "import psycopg2"
   ]
  },
  {
   "cell_type": "code",
   "execution_count": 2,
   "metadata": {
    "collapsed": false
   },
   "outputs": [
    {
     "name": "stdout",
     "output_type": "stream",
     "text": [
      "database crimes_db already exists\n",
      "Schema crimes already exists\n"
     ]
    }
   ],
   "source": [
    "#need to connet to an initial database. Using 'dq'\n",
    "conn = psycopg2.connect(dbname='dq', user='dq')\n",
    "cur = conn.cursor()\n",
    "# Create the crimes_db database\n",
    "# Turn on autocommit to create a postgres database\n",
    "cur.execute(\"SELECT datname FROM pg_database;\")\n",
    "databases = cur.fetchall()\n",
    "databases = [row[0] for row in databases]\n",
    "if 'crimes_db' not in databases:\n",
    "    print(\"creating new database: crimes_db\")\n",
    "    conn.rollback()\n",
    "    conn.autocommit = True\n",
    "    cur.execute(\"CREATE DATABASE crimes_db;\")\n",
    "else:\n",
    "    print(\"database crimes_db already exists\")\n",
    "conn.close()\n",
    "#Connect to the new database\n",
    "conn = psycopg2.connect(dbname='crimes_db', user='dq')\n",
    "cur = conn.cursor()\n",
    "#Creating new schema\n",
    "cur.execute(\"SELECT schema_name FROM information_schema.schemata;\")\n",
    "schemas = cur.fetchall()\n",
    "schemas = [row[0] for row in schemas]\n",
    "if 'crimes' not in schemas:\n",
    "    print(\"Creating new schema: crimes\")\n",
    "    cur.execute(\"CREATE SCHEMA crimes;\")\n",
    "else:\n",
    "    print(\"Schema crimes already exists\")\n",
    "conn.commit()\n",
    "conn.close()"
   ]
  },
  {
   "cell_type": "code",
   "execution_count": 3,
   "metadata": {
    "collapsed": true
   },
   "outputs": [],
   "source": [
    "import csv\n",
    "with open('boston.csv', 'r') as file:\n",
    "    reader = csv.reader(file)\n",
    "    col_headers = next(reader)\n",
    "    first_row = next(reader)"
   ]
  },
  {
   "cell_type": "code",
   "execution_count": 4,
   "metadata": {
    "collapsed": false
   },
   "outputs": [
    {
     "data": {
      "text/plain": [
       "['incident_number',\n",
       " 'offense_code',\n",
       " 'description',\n",
       " 'date',\n",
       " 'day_of_the_week',\n",
       " 'lat',\n",
       " 'long']"
      ]
     },
     "execution_count": 4,
     "metadata": {},
     "output_type": "execute_result"
    }
   ],
   "source": [
    "col_headers"
   ]
  },
  {
   "cell_type": "code",
   "execution_count": 5,
   "metadata": {
    "collapsed": false
   },
   "outputs": [
    {
     "data": {
      "text/plain": [
       "['1',\n",
       " '619',\n",
       " 'LARCENY ALL OTHERS',\n",
       " '2018-09-02',\n",
       " 'Sunday',\n",
       " '42.35779134',\n",
       " '-71.13937053']"
      ]
     },
     "execution_count": 5,
     "metadata": {},
     "output_type": "execute_result"
    }
   ],
   "source": [
    "first_row"
   ]
  },
  {
   "cell_type": "code",
   "execution_count": 6,
   "metadata": {
    "collapsed": false
   },
   "outputs": [],
   "source": [
    "# Create a repeatable way to identify proper datatypes.\n",
    "def get_col_set(csv_filename, col_index):\n",
    "    \"\"\"\n",
    "    Retrieves distinct values from a specified column in a CSV file.\n",
    "\n",
    "    Args:\n",
    "        csv_filename (str): The name of the CSV file.\n",
    "        col_index (int): The index of the column (0-based) to extract values from.\n",
    "\n",
    "    Returns:\n",
    "        set: A set containing unique values from the specified column.\n",
    "    \"\"\"\n",
    "    unique_values = set()\n",
    "\n",
    "    with open(csv_filename) as csv_file:\n",
    "        csv_reader = csv.reader(csv_file, delimiter=',')\n",
    "        for row in csv_reader:\n",
    "            if col_index < len(row):\n",
    "                unique_values.add(row[col_index])\n",
    "\n",
    "    return unique_values\n",
    "\n",
    "# Example usage:\n",
    "# csv_file_name = 'boston.csv'\n",
    "# column_index = 2  # Replace with the desired column index\n",
    "# result_set = get_col_set(csv_file_name, column_index)\n",
    "# print(result_set)"
   ]
  },
  {
   "cell_type": "code",
   "execution_count": 7,
   "metadata": {
    "collapsed": false
   },
   "outputs": [
    {
     "name": "stdout",
     "output_type": "stream",
     "text": [
      "Column index 0 has 298330 unique values\n",
      "Longest text in index 0 is 15\n",
      "Column index 1 has 220 unique values\n",
      "Longest text in index 1 is 12\n",
      "Column index 2 has 240 unique values\n",
      "Longest text in index 2 is 58\n",
      "Column index 3 has 1178 unique values\n",
      "Longest text in index 3 is 10\n",
      "Column index 4 has 8 unique values\n",
      "Longest text in index 4 is 15\n",
      "Column index 5 has 18178 unique values\n",
      "Longest text in index 5 is 11\n",
      "Column index 6 has 18178 unique values\n",
      "Longest text in index 6 is 12\n"
     ]
    }
   ],
   "source": [
    "# Explore the data we have\n",
    "# Number of unique values: which columns to give enumerated datatype\n",
    "# Longest unique value: Varchar length to put\n",
    "for x in range(7):\n",
    "    uniques = get_col_set('boston.csv', x)\n",
    "    num_uniques = len(uniques)\n",
    "    max_len = 0\n",
    "    for u in uniques:\n",
    "        if len(u) > max_len:\n",
    "            max_len = len(u)\n",
    "    print('Column index {} has {} unique values'.format(x, num_uniques))\n",
    "    print('Longest text in index {} is {}'.format(x, max_len))"
   ]
  },
  {
   "cell_type": "markdown",
   "metadata": {},
   "source": [
    "From the above number of unique values, column 4 is a good candidate for enumerated values.\n",
    "\n",
    "Below, we want to find the length of the longest Description.\n",
    "We know description is index 2 from the list of column headers"
   ]
  },
  {
   "cell_type": "code",
   "execution_count": 8,
   "metadata": {
    "collapsed": false
   },
   "outputs": [
    {
     "name": "stdout",
     "output_type": "stream",
     "text": [
      "58\n"
     ]
    }
   ],
   "source": [
    "# Get the longest description (index 2)\n",
    "desc_uniqs = get_col_set('boston.csv', 2)\n",
    "max_len = 0\n",
    "for desc in desc_uniqs:\n",
    "    if len(desc) > max_len:\n",
    "        max_len = len(desc)\n",
    "print(max_len)"
   ]
  },
  {
   "cell_type": "code",
   "execution_count": 9,
   "metadata": {
    "collapsed": false
   },
   "outputs": [
    {
     "data": {
      "text/plain": [
       "{'Friday',\n",
       " 'Monday',\n",
       " 'Saturday',\n",
       " 'Sunday',\n",
       " 'Thursday',\n",
       " 'Tuesday',\n",
       " 'Wednesday',\n",
       " 'day_of_the_week'}"
      ]
     },
     "execution_count": 9,
     "metadata": {},
     "output_type": "execute_result"
    }
   ],
   "source": [
    "week_uniqs = get_col_set('boston.csv', 4)\n",
    "week_uniqs"
   ]
  },
  {
   "cell_type": "markdown",
   "metadata": {},
   "source": [
    "Max length of the description field is 58 characters. For safety, going to set the varchar(100) to allow for a bit more flexability.\n",
    "\n",
    "So we're making the following columns:\n",
    "incident_id from 'incident_number', type=bigint PRIMARY KEY\n",
    "offense_code from 'offense_code', type=integer\n",
    "description from 'description', type=varchar(100)\n",
    "date from 'date', type=date\n",
    "day_of_the_week from 'day_of_the_week', type=enumeration\n",
    "lat from 'lat', type=double precision\n",
    "long from 'long', type=double precision"
   ]
  },
  {
   "cell_type": "code",
   "execution_count": 13,
   "metadata": {
    "collapsed": false
   },
   "outputs": [
    {
     "name": "stdout",
     "output_type": "stream",
     "text": [
      "Created crimes.boston_crimes\n"
     ]
    }
   ],
   "source": [
    "#Create the table in the crimes schema if there is no crimes table yet.\n",
    "conn = psycopg2.connect(dbname='crimes_db', user='dq')\n",
    "cur = conn.cursor()\n",
    "cur.execute(\"SELECT * FROM information_schema.tables WHERE table_schema = 'crimes';\")\n",
    "crime_tables = cur.fetchall()\n",
    "crime_tables = [row[0] for row in crime_tables]\n",
    "if 'boston_crimes' not in crime_tables:\n",
    "    cur.execute(\"\"\"CREATE TYPE days_enum AS ENUM ('Monday',\n",
    "'Tuesday', 'Wednesday', 'Thursday', 'Friday', 'Saturday', 'Sunday');\"\"\")\n",
    "    # Making the boston_crimes table in the crimes schema\n",
    "    table_statement = \"\"\"CREATE TABLE crimes.boston_crimes (\n",
    "    incident_id bigint PRIMARY KEY,\n",
    "    offense_code integer,\n",
    "    description varchar(100),\n",
    "    date date,\n",
    "    day_of_the_week days_enum,\n",
    "    lat double precision,\n",
    "    long double precision);\"\"\"\n",
    "    cur.execute(table_statement)\n",
    "    print(\"Created crimes.boston_crimes\")\n",
    "#     test_delete = \"\"\"DROP TABLE IF EXISTS crimes.test;\"\"\"\n",
    "#     cur.execute(test_delete)\n",
    "    conn.commit()\n",
    "conn.close()"
   ]
  },
  {
   "cell_type": "code",
   "execution_count": 11,
   "metadata": {
    "collapsed": false
   },
   "outputs": [
    {
     "name": "stdout",
     "output_type": "stream",
     "text": [
      "[('crimes_db', 'information_schema', 'tables', 'table_catalog', 1, None, 'YES', 'character varying', None, 1073741824, None, None, None, None, None, None, None, None, None, None, None, None, 'crimes_db', 'information_schema', 'sql_identifier', 'crimes_db', 'pg_catalog', 'varchar', None, None, None, None, '1', 'NO', 'NO', None, None, None, None, None, None, 'NEVER', None, 'NO'), ('crimes_db', 'information_schema', 'tables', 'table_schema', 2, None, 'YES', 'character varying', None, 1073741824, None, None, None, None, None, None, None, None, None, None, None, None, 'crimes_db', 'information_schema', 'sql_identifier', 'crimes_db', 'pg_catalog', 'varchar', None, None, None, None, '2', 'NO', 'NO', None, None, None, None, None, None, 'NEVER', None, 'NO'), ('crimes_db', 'information_schema', 'tables', 'table_name', 3, None, 'YES', 'character varying', None, 1073741824, None, None, None, None, None, None, None, None, None, None, None, None, 'crimes_db', 'information_schema', 'sql_identifier', 'crimes_db', 'pg_catalog', 'varchar', None, None, None, None, '3', 'NO', 'NO', None, None, None, None, None, None, 'NEVER', None, 'NO'), ('crimes_db', 'information_schema', 'tables', 'table_type', 4, None, 'YES', 'character varying', None, 1073741824, None, None, None, None, None, None, None, None, None, None, None, None, 'crimes_db', 'information_schema', 'character_data', 'crimes_db', 'pg_catalog', 'varchar', None, None, None, None, '4', 'NO', 'NO', None, None, None, None, None, None, 'NEVER', None, 'NO'), ('crimes_db', 'information_schema', 'tables', 'self_referencing_column_name', 5, None, 'YES', 'character varying', None, 1073741824, None, None, None, None, None, None, None, None, None, None, None, None, 'crimes_db', 'information_schema', 'sql_identifier', 'crimes_db', 'pg_catalog', 'varchar', None, None, None, None, '5', 'NO', 'NO', None, None, None, None, None, None, 'NEVER', None, 'NO'), ('crimes_db', 'information_schema', 'tables', 'reference_generation', 6, None, 'YES', 'character varying', None, 1073741824, None, None, None, None, None, None, None, None, None, None, None, None, 'crimes_db', 'information_schema', 'character_data', 'crimes_db', 'pg_catalog', 'varchar', None, None, None, None, '6', 'NO', 'NO', None, None, None, None, None, None, 'NEVER', None, 'NO'), ('crimes_db', 'information_schema', 'tables', 'user_defined_type_catalog', 7, None, 'YES', 'character varying', None, 1073741824, None, None, None, None, None, None, None, None, None, None, None, None, 'crimes_db', 'information_schema', 'sql_identifier', 'crimes_db', 'pg_catalog', 'varchar', None, None, None, None, '7', 'NO', 'NO', None, None, None, None, None, None, 'NEVER', None, 'NO'), ('crimes_db', 'information_schema', 'tables', 'user_defined_type_schema', 8, None, 'YES', 'character varying', None, 1073741824, None, None, None, None, None, None, None, None, None, None, None, None, 'crimes_db', 'information_schema', 'sql_identifier', 'crimes_db', 'pg_catalog', 'varchar', None, None, None, None, '8', 'NO', 'NO', None, None, None, None, None, None, 'NEVER', None, 'NO'), ('crimes_db', 'information_schema', 'tables', 'user_defined_type_name', 9, None, 'YES', 'character varying', None, 1073741824, None, None, None, None, None, None, None, None, None, None, None, None, 'crimes_db', 'information_schema', 'sql_identifier', 'crimes_db', 'pg_catalog', 'varchar', None, None, None, None, '9', 'NO', 'NO', None, None, None, None, None, None, 'NEVER', None, 'NO'), ('crimes_db', 'information_schema', 'tables', 'is_insertable_into', 10, None, 'YES', 'character varying', 3, 12, None, None, None, None, None, None, None, None, None, None, None, None, 'crimes_db', 'information_schema', 'yes_or_no', 'crimes_db', 'pg_catalog', 'varchar', None, None, None, None, '10', 'NO', 'NO', None, None, None, None, None, None, 'NEVER', None, 'NO'), ('crimes_db', 'information_schema', 'tables', 'is_typed', 11, None, 'YES', 'character varying', 3, 12, None, None, None, None, None, None, None, None, None, None, None, None, 'crimes_db', 'information_schema', 'yes_or_no', 'crimes_db', 'pg_catalog', 'varchar', None, None, None, None, '11', 'NO', 'NO', None, None, None, None, None, None, 'NEVER', None, 'NO'), ('crimes_db', 'information_schema', 'tables', 'commit_action', 12, None, 'YES', 'character varying', None, 1073741824, None, None, None, None, None, None, None, None, None, None, None, None, 'crimes_db', 'information_schema', 'character_data', 'crimes_db', 'pg_catalog', 'varchar', None, None, None, None, '12', 'NO', 'NO', None, None, None, None, None, None, 'NEVER', None, 'NO')]\n"
     ]
    }
   ],
   "source": [
    "conn = psycopg2.connect(dbname='crimes_db', user='dq')\n",
    "cur = conn.cursor()\n",
    "cur.execute(\"SELECT * FROM information_schema.columns WHERE table_schema = 'information_schema' AND table_name   = 'tables';\")\n",
    "print(cur.fetchall())\n",
    "conn.close()"
   ]
  },
  {
   "cell_type": "code",
   "execution_count": null,
   "metadata": {
    "collapsed": true
   },
   "outputs": [],
   "source": [
    "def is_table_empty(table_name):\n",
    "    try:\n",
    "        # Connect to the database (replace with your database credentials)\n",
    "        conn = psycopg2.connect(dbname='crimes_db', user='dq')\n",
    "        cur = conn.cursor()\n",
    "        cur.execute(\"SELECT EXISTS(SELECT 1 FROM %s LIMIT 1);\", (table_name))\n",
    "        result = cur.fetchone()[0]  # Fetch the boolean value\n",
    "        return not result  # Return True if empty, False otherwise\n",
    "\n",
    "    except psycopg2.Error as error:\n",
    "        raise Exception(f\"Error checking table emptiness: {error}\") from error"
   ]
  },
  {
   "cell_type": "code",
   "execution_count": 14,
   "metadata": {
    "collapsed": false
   },
   "outputs": [],
   "source": [
    "# Add the file into the database\n",
    "conn = psycopg2.connect(dbname='crimes_db', user='dq')\n",
    "cur = conn.cursor()\n",
    "if is_table_empty('crimes.boston_crimes'):\n",
    "    print(\"adding boston.csv into crimes.boston_crimes\")\n",
    "    with open('boston.csv', 'r') as f:\n",
    "        cur.copy_expert(\"COPY crimes.boston_crimes FROM STDIN WITH CSV HEADER;\", f)\n",
    "    conn.commit()\n",
    "else:\n",
    "    print(\"boston_crimes already has data in it. not adding more.\")\n",
    "conn.close()"
   ]
  },
  {
   "cell_type": "code",
   "execution_count": 22,
   "metadata": {
    "collapsed": false
   },
   "outputs": [],
   "source": [
    "def get_public_permissions(table_name):\n",
    "    try:\n",
    "        conn = psycopg2.connect(dbname='crimes_db', user='dq')\n",
    "        with conn.cursor() as cursor:\n",
    "            # Query for permissions granted to public on the table\n",
    "            cursor.execute(\"\"\"SELECT privilege_type\n",
    "                            FROM information_schema.table_privileges\n",
    "                            WHERE table_name = %s AND grantee = 'public';\"\"\", [table_name])\n",
    "        # Fetch all permission types granted to public\n",
    "            permissions = [row[0] for row in cursor.fetchall()]\n",
    "            return permissions\n",
    "\n",
    "    except psycopg2.Error as error:\n",
    "        raise Exception(\"Error checking public permissions: %s\".format(error)) from error\n",
    "\n",
    "def get_group_permissions(group_name):\n",
    "    try:\n",
    "        with psycopg2.connect(dbname='crimes_db', user='dq') as connection:\n",
    "            with connection.cursor() as cursor:\n",
    "                cursor.execute(\"\"\"SELECT grantee, privilege_type\n",
    "                                FROM information_schema.table_privileges\n",
    "                                WHERE grantee = %s;\"\"\", [group_name])\n",
    "                return cursor.fetchall()\n",
    "    except psycopg2.ERROR as error:\n",
    "        raise Exception(\"Error checking group permissions: %s\".format(error))"
   ]
  },
  {
   "cell_type": "code",
   "execution_count": 28,
   "metadata": {
    "collapsed": false
   },
   "outputs": [
    {
     "data": {
      "text/plain": [
       "[]"
      ]
     },
     "execution_count": 28,
     "metadata": {},
     "output_type": "execute_result"
    }
   ],
   "source": [
    "revoke_all = \"REVOKE ALL ON SCHEMA public FROM public;\"\n",
    "revoke_db = \"REVOKE ALL ON DATABASE crimes_db FROM public;\"\n",
    "# conn = psycopg2.connect(dbname='crimes_db', user='dq')\n",
    "# cur = conn.cursor()\n",
    "# cur.execute(revoke_all)\n",
    "# cur.execute(revoke_db)\n",
    "# print('revoked previlages')\n",
    "# conn.commit()\n",
    "# conn.close()\n",
    "get_public_permissions('crimes.boston_crimes')"
   ]
  },
  {
   "cell_type": "code",
   "execution_count": 27,
   "metadata": {
    "collapsed": true
   },
   "outputs": [],
   "source": [
    "# Create new permissions group\n",
    "new_readonly = \"CREATE GROUP readonly NOLOGIN;\"\n",
    "new_readwrite = \"CREATE GROUP readwrite NOLOGIN;\"\n",
    "connect_readonly = \"GRANT CONNECT ON DATABASE crimes_db TO readonly;\"\n",
    "connect_readwrite = \"GRANT CONNECT ON DATABASE crimes_db TO readwrite;\"\n",
    "schema_readonly = \"GRANT USAGE ON SCHEMA crimes TO readonly;\"\n",
    "schema_readwrite = \"GRANT USAGE ON SCHEMA crimes TO readwrite;\"\n",
    "permissions_readonly = \"GRANT SELECT ON ALL TABLES IN SCHEMA crimes TO readonly;\"\n",
    "permissions_readwrite = \"GRANT INSERT, SELECT, DELETE, UPDATE ON ALL TABLES IN SCHEMA crimes TO readwrite;\"\n",
    "updates = [new_readonly, new_readwrite, connect_readonly, connect_readwrite, schema_readonly, schema_readwrite, permissions_readonly, permissions_readwrite]\n",
    "with psycopg2.connect(dbname='crimes_db', user='dq') as connection:\n",
    "    with connection.cursor() as cursor:\n",
    "        for permission in updates:\n",
    "            cursor.execute(permission)\n",
    "    connection.commit()\n",
    "    print('wrote new permissions')"
   ]
  },
  {
   "cell_type": "code",
   "execution_count": null,
   "metadata": {
    "collapsed": true
   },
   "outputs": [],
   "source": [
    "# Create new users to play with database\n",
    "with psycopg2.connect(dbname='crimes_db', user='dq') as connection:\n",
    "    with connection.cursor() as cursor:\n",
    "        cursor.execute(\"CREATE USER data_analyst WITH PASSWORD 'secret1';\")\n",
    "        cursor.execute(\"GRANT readonly TO data_analyst;\")\n",
    "        cursor.execute(\"CREATE USER data_scientist WITH PASSWORD 'secret2';\")\n",
    "        cursor.execute(\"GRANT readwrite TO data_scientist;\")\n",
    "        print(\"New users created and assigned to groups!\")"
   ]
  }
 ],
 "metadata": {
  "kernelspec": {
   "display_name": "Python 3",
   "language": "python",
   "name": "python3"
  },
  "language_info": {
   "codemirror_mode": {
    "name": "ipython",
    "version": 3
   },
   "file_extension": ".py",
   "mimetype": "text/x-python",
   "name": "python",
   "nbconvert_exporter": "python",
   "pygments_lexer": "ipython3",
   "version": "3.4.3"
  }
 },
 "nbformat": 4,
 "nbformat_minor": 2
}
