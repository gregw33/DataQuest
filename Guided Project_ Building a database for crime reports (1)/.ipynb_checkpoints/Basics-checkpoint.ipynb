{
 "cells": [
  {
   "cell_type": "markdown",
   "metadata": {},
   "source": [
    "# DataQuest.io guided project about building a database for crime reports\n",
    "GOALS: Practice following concepts:\n",
    "    -How to create a database and manage database roles\n",
    "        =Database named crimes_db\n",
    "        =Groups of \"readonly\" and \"readwrite\"\n",
    "    -How to create database schemas and tables with proper datatypes\n",
    "        =Schema named \"crimes\" with table named \"boston_crimes\"\n",
    "    -How to load dataf from CSV files into dataabse tables."
   ]
  },
  {
   "cell_type": "markdown",
   "metadata": {},
   "source": [
    "Included data: boston.csv\n",
    "columns = incident_number, offense_code, description, date, day_of_the_week, lat, long"
   ]
  },
  {
   "cell_type": "markdown",
   "metadata": {},
   "source": [
    "# Connecting to the Dataquest Database\n",
    "# Creating new table"
   ]
  },
  {
   "cell_type": "code",
   "execution_count": 1,
   "metadata": {
    "collapsed": true
   },
   "outputs": [],
   "source": [
    "import psycopg2"
   ]
  },
  {
   "cell_type": "code",
   "execution_count": 2,
   "metadata": {
    "collapsed": false
   },
   "outputs": [
    {
     "name": "stdout",
     "output_type": "stream",
     "text": [
      "database crimes_db already exists\n",
      "Schema crimes already exists\n"
     ]
    }
   ],
   "source": [
    "#need to connet to an initial database. Using 'dq'\n",
    "conn = psycopg2.connect(dbname='dq', user='dq')\n",
    "cur = conn.cursor()\n",
    "# Create the crimes_db database\n",
    "# Turn on autocommit to create a postgres database\n",
    "cur.execute(\"SELECT datname FROM pg_database;\")\n",
    "databases = cur.fetchall()\n",
    "databases = [row[0] for row in databases]\n",
    "if 'crimes_db' not in databases:\n",
    "    print(\"creating new database: crimes_db\")\n",
    "    conn.rollback()\n",
    "    conn.autocommit = True\n",
    "    cur.execute(\"CREATE DATABASE crimes_db;\")\n",
    "else:\n",
    "    print(\"database crimes_db already exists\")\n",
    "conn.close()\n",
    "#Connect to the new database\n",
    "conn = psycopg2.connect(dbname='crimes_db', user='dq')\n",
    "cur = conn.cursor()\n",
    "#Creating new schema\n",
    "cur.execute(\"SELECT schema_name FROM information_schema.schemata;\")\n",
    "schemas = cur.fetchall()\n",
    "schemas = [row[0] for row in schemas]\n",
    "if 'crimes' not in schemas:\n",
    "    print(\"Creating new schema: crimes\")\n",
    "    cur.execute(\"CREATE SCHEMA crimes;\")\n",
    "else:\n",
    "    print(\"Schema crimes already exists\")\n",
    "conn.commit()\n",
    "conn.close()"
   ]
  },
  {
   "cell_type": "code",
   "execution_count": 3,
   "metadata": {
    "collapsed": true
   },
   "outputs": [],
   "source": [
    "import csv\n",
    "with open('boston.csv', 'r') as file:\n",
    "    reader = csv.reader(file)\n",
    "    col_headers = next(reader)\n",
    "    first_row = next(reader)"
   ]
  },
  {
   "cell_type": "code",
   "execution_count": 4,
   "metadata": {
    "collapsed": false
   },
   "outputs": [
    {
     "data": {
      "text/plain": [
       "['incident_number',\n",
       " 'offense_code',\n",
       " 'description',\n",
       " 'date',\n",
       " 'day_of_the_week',\n",
       " 'lat',\n",
       " 'long']"
      ]
     },
     "execution_count": 4,
     "metadata": {},
     "output_type": "execute_result"
    }
   ],
   "source": [
    "col_headers"
   ]
  },
  {
   "cell_type": "code",
   "execution_count": 5,
   "metadata": {
    "collapsed": false
   },
   "outputs": [
    {
     "data": {
      "text/plain": [
       "['1',\n",
       " '619',\n",
       " 'LARCENY ALL OTHERS',\n",
       " '2018-09-02',\n",
       " 'Sunday',\n",
       " '42.35779134',\n",
       " '-71.13937053']"
      ]
     },
     "execution_count": 5,
     "metadata": {},
     "output_type": "execute_result"
    }
   ],
   "source": [
    "first_row"
   ]
  },
  {
   "cell_type": "code",
   "execution_count": 6,
   "metadata": {
    "collapsed": false
   },
   "outputs": [],
   "source": [
    "# Create a repeatable way to identify proper datatypes.\n",
    "def get_col_set(csv_filename, col_index):\n",
    "    \"\"\"\n",
    "    Retrieves distinct values from a specified column in a CSV file.\n",
    "\n",
    "    Args:\n",
    "        csv_filename (str): The name of the CSV file.\n",
    "        col_index (int): The index of the column (0-based) to extract values from.\n",
    "\n",
    "    Returns:\n",
    "        set: A set containing unique values from the specified column.\n",
    "    \"\"\"\n",
    "    unique_values = set()\n",
    "\n",
    "    with open(csv_filename) as csv_file:\n",
    "        csv_reader = csv.reader(csv_file, delimiter=',')\n",
    "        for row in csv_reader:\n",
    "            if col_index < len(row):\n",
    "                unique_values.add(row[col_index])\n",
    "\n",
    "    return unique_values\n",
    "\n",
    "# Example usage:\n",
    "# csv_file_name = 'boston.csv'\n",
    "# column_index = 2  # Replace with the desired column index\n",
    "# result_set = get_col_set(csv_file_name, column_index)\n",
    "# print(result_set)"
   ]
  },
  {
   "cell_type": "code",
   "execution_count": 7,
   "metadata": {
    "collapsed": false
   },
   "outputs": [
    {
     "name": "stdout",
     "output_type": "stream",
     "text": [
      "Column index 0 has 298330 unique values\n",
      "Longest text in index 0 is 15\n",
      "Column index 1 has 220 unique values\n",
      "Longest text in index 1 is 12\n",
      "Column index 2 has 240 unique values\n",
      "Longest text in index 2 is 58\n",
      "Column index 3 has 1178 unique values\n",
      "Longest text in index 3 is 10\n",
      "Column index 4 has 8 unique values\n",
      "Longest text in index 4 is 15\n",
      "Column index 5 has 18178 unique values\n",
      "Longest text in index 5 is 11\n",
      "Column index 6 has 18178 unique values\n",
      "Longest text in index 6 is 12\n"
     ]
    }
   ],
   "source": [
    "# Explore the data we have\n",
    "# Number of unique values: which columns to give enumerated datatype\n",
    "# Longest unique value: Varchar length to put\n",
    "for x in range(7):\n",
    "    uniques = get_col_set('boston.csv', x)\n",
    "    num_uniques = len(uniques)\n",
    "    max_len = 0\n",
    "    for u in uniques:\n",
    "        if len(u) > max_len:\n",
    "            max_len = len(u)\n",
    "    print('Column index {} has {} unique values'.format(x, num_uniques))\n",
    "    print('Longest text in index {} is {}'.format(x, max_len))"
   ]
  },
  {
   "cell_type": "markdown",
   "metadata": {},
   "source": [
    "From the above number of unique values, column 4 is a good candidate for enumerated values.\n",
    "\n",
    "Below, we want to find the length of the longest Description.\n",
    "We know description is index 2 from the list of column headers"
   ]
  },
  {
   "cell_type": "code",
   "execution_count": 8,
   "metadata": {
    "collapsed": false
   },
   "outputs": [
    {
     "name": "stdout",
     "output_type": "stream",
     "text": [
      "58\n"
     ]
    }
   ],
   "source": [
    "# Get the longest description (index 2)\n",
    "desc_uniqs = get_col_set('boston.csv', 2)\n",
    "max_len = 0\n",
    "for desc in desc_uniqs:\n",
    "    if len(desc) > max_len:\n",
    "        max_len = len(desc)\n",
    "print(max_len)"
   ]
  },
  {
   "cell_type": "code",
   "execution_count": 9,
   "metadata": {
    "collapsed": false
   },
   "outputs": [
    {
     "data": {
      "text/plain": [
       "{'Friday',\n",
       " 'Monday',\n",
       " 'Saturday',\n",
       " 'Sunday',\n",
       " 'Thursday',\n",
       " 'Tuesday',\n",
       " 'Wednesday',\n",
       " 'day_of_the_week'}"
      ]
     },
     "execution_count": 9,
     "metadata": {},
     "output_type": "execute_result"
    }
   ],
   "source": [
    "week_uniqs = get_col_set('boston.csv', 4)\n",
    "week_uniqs"
   ]
  },
  {
   "cell_type": "markdown",
   "metadata": {},
   "source": [
    "Max length of the description field is 58 characters. For safety, going to set the varchar(100) to allow for a bit more flexability.\n",
    "\n",
    "So we're making the following columns:\n",
    "incident_id from 'incident_number', type=bigint PRIMARY KEY\n",
    "offense_code from 'offense_code', type=integer\n",
    "description from 'description', type=varchar(100)\n",
    "date from 'date', type=date\n",
    "day_of_the_week from 'day_of_the_week', type=enumeration\n",
    "lat from 'lat', type=double precision\n",
    "long from 'long', type=double precision"
   ]
  },
  {
   "cell_type": "code",
   "execution_count": 10,
   "metadata": {
    "collapsed": false
   },
   "outputs": [
    {
     "name": "stdout",
     "output_type": "stream",
     "text": [
      "Created crimes.boston_crimes\n"
     ]
    }
   ],
   "source": [
    "#Create the table in the crimes schema if there is no crimes table yet.\n",
    "conn = psycopg2.connect(dbname='crimes_db', user='dq')\n",
    "cur = conn.cursor()\n",
    "cur.execute(\"SELECT * FROM information_schema.tables WHERE table_schema = 'crimes';\")\n",
    "crime_tables = cur.fetchall()\n",
    "crime_tables = [row[0] for row in crime_tables]\n",
    "if 'boston_crimes' not in crime_tables:\n",
    "    cur.execute(\"\"\"CREATE TYPE days_enum AS ENUM ('Monday',\n",
    "'Tuesday', 'Wednesday', 'Thursday', 'Friday', 'Saturday', 'Sunday');\"\"\")\n",
    "    # Making the boston_crimes table in the crimes schema\n",
    "    table_statement = \"\"\"CREATE TABLE crimes.boston_crimes (\n",
    "    incident_id bigint PRIMARY KEY,\n",
    "    offense_code integer,\n",
    "    description varchar(100),\n",
    "    date date,\n",
    "    day_of_the_week days_enum,\n",
    "    lat double precision,\n",
    "    long double precision);\"\"\"\n",
    "    cur.execute(table_statement)\n",
    "    print(\"Created crimes.boston_crimes\")\n",
    "#     test_delete = \"\"\"DROP TABLE IF EXISTS crimes.test;\"\"\"\n",
    "#     cur.execute(test_delete)\n",
    "conn.close()"
   ]
  },
  {
   "cell_type": "code",
   "execution_count": 11,
   "metadata": {
    "collapsed": false
   },
   "outputs": [
    {
     "name": "stdout",
     "output_type": "stream",
     "text": [
      "[('crimes_db', 'information_schema', 'tables', 'table_catalog', 1, None, 'YES', 'character varying', None, 1073741824, None, None, None, None, None, None, None, None, None, None, None, None, 'crimes_db', 'information_schema', 'sql_identifier', 'crimes_db', 'pg_catalog', 'varchar', None, None, None, None, '1', 'NO', 'NO', None, None, None, None, None, None, 'NEVER', None, 'NO'), ('crimes_db', 'information_schema', 'tables', 'table_schema', 2, None, 'YES', 'character varying', None, 1073741824, None, None, None, None, None, None, None, None, None, None, None, None, 'crimes_db', 'information_schema', 'sql_identifier', 'crimes_db', 'pg_catalog', 'varchar', None, None, None, None, '2', 'NO', 'NO', None, None, None, None, None, None, 'NEVER', None, 'NO'), ('crimes_db', 'information_schema', 'tables', 'table_name', 3, None, 'YES', 'character varying', None, 1073741824, None, None, None, None, None, None, None, None, None, None, None, None, 'crimes_db', 'information_schema', 'sql_identifier', 'crimes_db', 'pg_catalog', 'varchar', None, None, None, None, '3', 'NO', 'NO', None, None, None, None, None, None, 'NEVER', None, 'NO'), ('crimes_db', 'information_schema', 'tables', 'table_type', 4, None, 'YES', 'character varying', None, 1073741824, None, None, None, None, None, None, None, None, None, None, None, None, 'crimes_db', 'information_schema', 'character_data', 'crimes_db', 'pg_catalog', 'varchar', None, None, None, None, '4', 'NO', 'NO', None, None, None, None, None, None, 'NEVER', None, 'NO'), ('crimes_db', 'information_schema', 'tables', 'self_referencing_column_name', 5, None, 'YES', 'character varying', None, 1073741824, None, None, None, None, None, None, None, None, None, None, None, None, 'crimes_db', 'information_schema', 'sql_identifier', 'crimes_db', 'pg_catalog', 'varchar', None, None, None, None, '5', 'NO', 'NO', None, None, None, None, None, None, 'NEVER', None, 'NO'), ('crimes_db', 'information_schema', 'tables', 'reference_generation', 6, None, 'YES', 'character varying', None, 1073741824, None, None, None, None, None, None, None, None, None, None, None, None, 'crimes_db', 'information_schema', 'character_data', 'crimes_db', 'pg_catalog', 'varchar', None, None, None, None, '6', 'NO', 'NO', None, None, None, None, None, None, 'NEVER', None, 'NO'), ('crimes_db', 'information_schema', 'tables', 'user_defined_type_catalog', 7, None, 'YES', 'character varying', None, 1073741824, None, None, None, None, None, None, None, None, None, None, None, None, 'crimes_db', 'information_schema', 'sql_identifier', 'crimes_db', 'pg_catalog', 'varchar', None, None, None, None, '7', 'NO', 'NO', None, None, None, None, None, None, 'NEVER', None, 'NO'), ('crimes_db', 'information_schema', 'tables', 'user_defined_type_schema', 8, None, 'YES', 'character varying', None, 1073741824, None, None, None, None, None, None, None, None, None, None, None, None, 'crimes_db', 'information_schema', 'sql_identifier', 'crimes_db', 'pg_catalog', 'varchar', None, None, None, None, '8', 'NO', 'NO', None, None, None, None, None, None, 'NEVER', None, 'NO'), ('crimes_db', 'information_schema', 'tables', 'user_defined_type_name', 9, None, 'YES', 'character varying', None, 1073741824, None, None, None, None, None, None, None, None, None, None, None, None, 'crimes_db', 'information_schema', 'sql_identifier', 'crimes_db', 'pg_catalog', 'varchar', None, None, None, None, '9', 'NO', 'NO', None, None, None, None, None, None, 'NEVER', None, 'NO'), ('crimes_db', 'information_schema', 'tables', 'is_insertable_into', 10, None, 'YES', 'character varying', 3, 12, None, None, None, None, None, None, None, None, None, None, None, None, 'crimes_db', 'information_schema', 'yes_or_no', 'crimes_db', 'pg_catalog', 'varchar', None, None, None, None, '10', 'NO', 'NO', None, None, None, None, None, None, 'NEVER', None, 'NO'), ('crimes_db', 'information_schema', 'tables', 'is_typed', 11, None, 'YES', 'character varying', 3, 12, None, None, None, None, None, None, None, None, None, None, None, None, 'crimes_db', 'information_schema', 'yes_or_no', 'crimes_db', 'pg_catalog', 'varchar', None, None, None, None, '11', 'NO', 'NO', None, None, None, None, None, None, 'NEVER', None, 'NO'), ('crimes_db', 'information_schema', 'tables', 'commit_action', 12, None, 'YES', 'character varying', None, 1073741824, None, None, None, None, None, None, None, None, None, None, None, None, 'crimes_db', 'information_schema', 'character_data', 'crimes_db', 'pg_catalog', 'varchar', None, None, None, None, '12', 'NO', 'NO', None, None, None, None, None, None, 'NEVER', None, 'NO')]\n"
     ]
    }
   ],
   "source": [
    "conn = psycopg2.connect(dbname='crimes_db', user='dq')\n",
    "cur = conn.cursor()\n",
    "cur.execute(\"SELECT * FROM information_schema.columns WHERE table_schema = 'information_schema' AND table_name   = 'tables';\")\n",
    "print(cur.fetchall())\n",
    "conn.close()"
   ]
  },
  {
   "cell_type": "code",
   "execution_count": 12,
   "metadata": {
    "collapsed": false
   },
   "outputs": [
    {
     "ename": "ProgrammingError",
     "evalue": "relation \"crimes.boston_crimes\" does not exist\n",
     "output_type": "error",
     "traceback": [
      "\u001b[1;31m\u001b[0m",
      "\u001b[1;31mProgrammingError\u001b[0mTraceback (most recent call last)",
      "\u001b[1;32m<ipython-input-12-df354a8dd1de>\u001b[0m in \u001b[0;36m<module>\u001b[1;34m()\u001b[0m\n\u001b[0;32m      3\u001b[0m \u001b[0mcur\u001b[0m \u001b[1;33m=\u001b[0m \u001b[0mconn\u001b[0m\u001b[1;33m.\u001b[0m\u001b[0mcursor\u001b[0m\u001b[1;33m(\u001b[0m\u001b[1;33m)\u001b[0m\u001b[1;33m\u001b[0m\u001b[0m\n\u001b[0;32m      4\u001b[0m \u001b[1;32mwith\u001b[0m \u001b[0mopen\u001b[0m\u001b[1;33m(\u001b[0m\u001b[1;34m'boston.csv'\u001b[0m\u001b[1;33m,\u001b[0m \u001b[1;34m'r'\u001b[0m\u001b[1;33m)\u001b[0m \u001b[1;32mas\u001b[0m \u001b[0mf\u001b[0m\u001b[1;33m:\u001b[0m\u001b[1;33m\u001b[0m\u001b[0m\n\u001b[1;32m----> 5\u001b[1;33m     \u001b[0mcur\u001b[0m\u001b[1;33m.\u001b[0m\u001b[0mcopy_expert\u001b[0m\u001b[1;33m(\u001b[0m\u001b[1;34m\"COPY crimes.boston_crimes FROM STDIN WITH CSV HEADER;\"\u001b[0m\u001b[1;33m,\u001b[0m \u001b[0mf\u001b[0m\u001b[1;33m)\u001b[0m\u001b[1;33m\u001b[0m\u001b[0m\n\u001b[0m\u001b[0;32m      6\u001b[0m \u001b[0mconn\u001b[0m\u001b[1;33m.\u001b[0m\u001b[0mcommit\u001b[0m\u001b[1;33m(\u001b[0m\u001b[1;33m)\u001b[0m\u001b[1;33m\u001b[0m\u001b[0m\n\u001b[0;32m      7\u001b[0m \u001b[0mconn\u001b[0m\u001b[1;33m.\u001b[0m\u001b[0mclose\u001b[0m\u001b[1;33m(\u001b[0m\u001b[1;33m)\u001b[0m\u001b[1;33m\u001b[0m\u001b[0m\n",
      "\u001b[1;31mProgrammingError\u001b[0m: relation \"crimes.boston_crimes\" does not exist\n"
     ]
    }
   ],
   "source": [
    "# Add the file into the database\n",
    "conn = psycopg2.connect(dbname='crimes_db', user='dq')\n",
    "cur = conn.cursor()\n",
    "with open('boston.csv', 'r') as f:\n",
    "    cur.copy_expert(\"COPY crimes.boston_crimes FROM STDIN WITH CSV HEADER;\", f)\n",
    "conn.commit()\n",
    "conn.close()"
   ]
  }
 ],
 "metadata": {
  "kernelspec": {
   "display_name": "Python 3",
   "language": "python",
   "name": "python3"
  },
  "language_info": {
   "codemirror_mode": {
    "name": "ipython",
    "version": 3
   },
   "file_extension": ".py",
   "mimetype": "text/x-python",
   "name": "python",
   "nbconvert_exporter": "python",
   "pygments_lexer": "ipython3",
   "version": "3.4.3"
  }
 },
 "nbformat": 4,
 "nbformat_minor": 2
}
